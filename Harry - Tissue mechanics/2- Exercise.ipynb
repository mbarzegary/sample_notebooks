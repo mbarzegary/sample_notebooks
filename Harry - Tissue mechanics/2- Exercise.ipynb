{
 "cells": [
  {
   "cell_type": "markdown",
   "metadata": {},
   "source": [
    "# Exercise\n",
    "\n",
    "As you learned from the workflow, calculating the rigidity of the bone in the CT images is relatively a simple process. The main idea of this exercise is to implement the process for different patients and bones. To do this, you need to repeat the aforementioned process for each slice of the CT scan of the bone, which literally means performing the previous calculation for each DICOM file in a sequence of files in a directory. This enables you to compare the rigidity of bone in all the slices to get the lowest rigidity (weakest region) of the bone. Additionally, you can compare different bones in different scenarios.\n",
    "\n",
    "What you need to do is to complete the below code according to what you saw in the workflow. The main skeleton is already there for you. Then, you can use the code to answer and elaborate the questions.  \n",
    "\n",
    "## Description of the data\n",
    "There are a collection of 8 pairs of human femora; CT scans of all 16 intact bones. In each femur pair identical holes were created, resembling lesions caused by bone tumors; CT scans of all 16 bones with lesions. For each pair, the lesion in one of the femora was filled with bone cement; the other ones was left untreated. CT scans were made of the 8 femora in which bone cement had been injected. Therefore, CT scans of 32 bones are avaialble. The aim is to quantify axial rigidity and bending rigidity for 40 slices representing entire bone. This procedure can be repeated for all 32 bones.  "
   ]
  },
  {
   "cell_type": "markdown",
   "metadata": {},
   "source": [
    "## Code \n",
    "\n",
    "As mentioned before, the first step is loading the required packages. The only difference with the workflow file is the addition of the `os` package, which is used to list and iterate through the files in a directory.  "
   ]
  },
  {
   "cell_type": "code",
   "execution_count": null,
   "metadata": {},
   "outputs": [],
   "source": [
    "import numpy as np\n",
    "import matplotlib.pyplot as plt\n",
    "import pydicom\n",
    "import os"
   ]
  },
  {
   "cell_type": "markdown",
   "metadata": {},
   "source": [
    "Then, like the workfow, we define the equation coefficients and thresholds. Make sure that the usage and values are clear to you and correct."
   ]
  },
  {
   "cell_type": "code",
   "execution_count": null,
   "metadata": {},
   "outputs": [],
   "source": [
    "slopeRho = 0.0008783\n",
    "interceptRho = -0.0190450\n",
    "threshHU = 3000\n",
    "threshRho = 0.05\n",
    "trabecularValue = 1.1"
   ]
  },
  {
   "cell_type": "markdown",
   "metadata": {},
   "source": [
    "Then, you need to define a function to encapsulate the process of reading and processing a single CT image. This will be used to repeat the procedure for each CT file in a directory. The function should return the value of `EA`, `EIX`, ad `EIY`."
   ]
  },
  {
   "cell_type": "code",
   "execution_count": null,
   "metadata": {},
   "outputs": [],
   "source": [
    "def readAndProcess(fileName):\n",
    "    \n",
    "    # complete the body of this function to compute the rigidity for the given fileName  \n",
    "\n",
    "    return (EA, EIX, EIY)"
   ]
  },
  {
   "cell_type": "markdown",
   "metadata": {},
   "source": [
    "By iterating through the files in a given directory, we can get the lowest value of rigidity of the whole CT scan. Modify the code to find the lowest rigidity of the given directory (which contains the sequences of DICOM files)."
   ]
  },
  {
   "cell_type": "code",
   "execution_count": null,
   "metadata": {},
   "outputs": [],
   "source": [
    "# this code iterates though the files in a directory (given by directoryName)\n",
    "# and calls the readAndProcess on each file.\n",
    "# modify this block of code to get the lowest rigidity of all files in the directory\n",
    "# a suggestion is to define 2 variables before the loop (minEA and minEA_fileName), and\n",
    "# use them to compare the return value of the readAndProcess function.\n",
    "# in the end, you can print the lowest rigidity and the file in which it was found\n",
    "\n",
    "directoryName = \"I_1L\"\n",
    "\n",
    "# minEA = 0\n",
    "# minEA_fileName = \"\"\n",
    "\n",
    "for file in os.listdir(directoryName):\n",
    "    print(f\"Processing file {file}\")\n",
    "    EA, EIX, EIY = readAndProcess(f\"{directoryName}/{file}\")\n",
    "    print(f\"EA = {EA}, EIX = {EIX}, EIY = {EIY}\")\n",
    "\n",
    "# print(\"--------------------\")\n",
    "# print(f\"The minimum regidity is {minEA} in file {minEA_fileName}\")"
   ]
  },
  {
   "cell_type": "markdown",
   "metadata": {},
   "source": [
    "# Questions:\n",
    "\n",
    "1- Implement CTRA for an entire bone to quantify axial rigidity and bending rigidity. Identify the cross-section with the lowest rigidity. \n",
    "\n",
    "2- Compare the lowest rigidity in a femur with a lesion to the rigidity of the intact bone. How much lower is it in the femur with a lesion? \n",
    "\n",
    "3- Assuming a maximum strain of 1% what would be the load at which the bone would fail? Repeat the analyses for the other 15 bones. \n",
    "\n",
    "4- Do the evaluations change (and if so, how much?) when a different density-elasticity relationship were to be used?  e.g.\\begin{equation}\n",
    "E = 6850\\rho^{1.49} (\\text{[MPa]}) \\text{, with } \\rho \\text{= apparent density in } g/cm^3.\n",
    "\\end{equation}\n",
    "\n",
    "5- Compare left intact versus right intact. Are they as strong? To what extent do they differ?\n",
    "\n",
    "6- Compare left lesion versus right lesions. Are they as strong? To what extent do they differ?\n",
    "\n",
    "7- In a clinical setting, the fracture risk of the affected bone will be compared to the fracture risk of the contralateral bone. \n",
    "\n",
    "8- Compare the outcome of CTRA for left femora and right femora. To what extent do left and right femora differ from each other?\n",
    "9- Calculate CTRA for the side from each pair which is augmented. Identify the cross-section with the lowest rigidity. Compare this value with the lowest rigidity in the untreated (Defected) side. \n"
   ]
  }
 ],
 "metadata": {
  "kernelspec": {
   "display_name": "Python 3",
   "language": "python",
   "name": "python3"
  },
  "language_info": {
   "codemirror_mode": {
    "name": "ipython",
    "version": 3
   },
   "file_extension": ".py",
   "mimetype": "text/x-python",
   "name": "python",
   "nbconvert_exporter": "python",
   "pygments_lexer": "ipython3",
   "version": "3.8.2"
  }
 },
 "nbformat": 4,
 "nbformat_minor": 4
}
