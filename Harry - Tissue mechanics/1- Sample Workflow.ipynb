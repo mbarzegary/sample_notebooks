{
 "cells": [
  {
   "cell_type": "markdown",
   "metadata": {},
   "source": [
    "# How to calculate bone rigidity based on CT scans?\n",
    "\n",
    "Background: There is a technique called Computed Tomography-based Structural Rigidity Analysis (CTRA) to accurately predict and monitor fracture risk associated with metastatic lesions based on quantification of changes in bone geometry and density. For each trans-axial CT image, axial (EA) and bending (EI) rigidities for the affected bone and the contralateral (unaffected) bone are calculated by summing the modulus-weighted area of each pixel within the bone contour by the position of the pixel relative to the centroid of the bone cross-section. EA provides a measure of the bone’s resistance to uniaxial loads and EI provides a measure of the bone’s resistance to bending moments [1]. "
   ]
  },
  {
   "cell_type": "markdown",
   "metadata": {},
   "source": [
    "## Code \n",
    "\n",
    "The first step in each Python program is to load the required packages. Here, we take advantage of the `pydicom` to read and process the DICOM (.dcm) files. In addition to this, like so many other scientific programs, we load `numpy` and `matplotlib` packages to perform numerical computation and plotting, respectively.     "
   ]
  },
  {
   "cell_type": "code",
   "execution_count": 1,
   "metadata": {},
   "outputs": [],
   "source": [
    "import numpy as np\n",
    "import matplotlib.pyplot as plt\n",
    "import pydicom"
   ]
  },
  {
   "cell_type": "markdown",
   "metadata": {},
   "source": [
    "Then, we read the CT image file (a DICOM file) and convert it to a 2D array of numerical values. The `image` variable is a `numpy array`, which enables us to work with the pixels data of the DICOM file similar to any other matrices in MATLAB or Python."
   ]
  },
  {
   "cell_type": "code",
   "execution_count": 2,
   "metadata": {},
   "outputs": [],
   "source": [
    "scan = pydicom.read_file(\"I_1L/I_1L_0000.dcm\")\n",
    "image = scan.pixel_array"
   ]
  },
  {
   "cell_type": "markdown",
   "metadata": {},
   "source": [
    "Prior to the main computation, let's have an initial look at the CT scan image using `matplotlib` to see how it looks like:"
   ]
  },
  {
   "cell_type": "code",
   "execution_count": 3,
   "metadata": {},
   "outputs": [
    {
     "data": {
      "image/png": "[encoded data removed]",
      "text/plain": [
       "<Figure size 432x288 with 2 Axes>"
      ]
     },
     "metadata": {
      "needs_background": "light"
     },
     "output_type": "display_data"
    }
   ],
   "source": [
    "plt.contourf(image)\n",
    "plt.colorbar()\n",
    "plt.show()"
   ]
  },
  {
   "cell_type": "markdown",
   "metadata": {},
   "source": [
    "Hounsfield units (HU) are a dimensionless unit used in computed tomography (CT) scanning to express CT numbers in a standardized form. By using `slopeRho` and `interceptRho` from measured data for calibrating the HU values from CT against bone mineral density (BMD), density for each pixel is calculated. "
   ]
  },
  {
   "cell_type": "code",
   "execution_count": 4,
   "metadata": {},
   "outputs": [],
   "source": [
    "slopeRho = 0.0005783\n",
    "interceptRho = -0.0190450"
   ]
  },
  {
   "cell_type": "markdown",
   "metadata": {},
   "source": [
    "For segmenting the bone from the background, thresholding at a threshold of 3000 HU is done. \n",
    "To prevent negative density values, a threshold is defined as `threshRho`. The transition from trabecular bone to cortical bone is assumed to occur at an apparent density of $1.1 g.cm^{-3}$. \n"
   ]
  },
  {
   "cell_type": "code",
   "execution_count": 5,
   "metadata": {},
   "outputs": [],
   "source": [
    "threshHU = 3000\n",
    "threshRho = 0.05\n",
    "trabecularValue = 1.1"
   ]
  },
  {
   "cell_type": "markdown",
   "metadata": {},
   "source": [
    "The dimensions of the CT image can be read from the pixel array (`numpy` object), and the `pdicom` object can tell us the size of each pixel (`dx` and `dy`), which in turn can be used to calculate the area of each pixel (`da`). "
   ]
  },
  {
   "cell_type": "code",
   "execution_count": 6,
   "metadata": {},
   "outputs": [],
   "source": [
    "h = image.shape[0] # image height\n",
    "w = image.shape[1] # image width\n",
    "dx = scan.PixelSpacing[0] # width of each pixel\n",
    "dy = scan.PixelSpacing[1] # height of each pixel\n",
    "da = dx * dy # area of each pixel"
   ]
  },
  {
   "cell_type": "markdown",
   "metadata": {},
   "source": [
    "Before looping through the pixels data, we define the required variables to be used in the loop including some empty matrices (`numpy` arrays) with the same shape of the image data. Indeed, each element of these matrices will contain the computed  variable of interest (HU, density and Young modulus) of the corresponding pixel of the image data."
   ]
  },
  {
   "cell_type": "code",
   "execution_count": 7,
   "metadata": {},
   "outputs": [],
   "source": [
    "HU = np.zeros(shape=image.shape)\n",
    "rho = np.zeros(shape=image.shape)\n",
    "E = np.zeros(shape=image.shape)\n",
    "X = 0\n",
    "Y = 0\n",
    "EA = 0"
   ]
  },
  {
   "cell_type": "markdown",
   "metadata": {},
   "source": [
    "To convert pixel intensity values from 0-255 in DICOM CT images to HU (-1000 to 4200) you need to use a linear transformation in terms of RescaleSlope  and RescaleIntercept (whichcan be found in the header of the DICOM image file). \n",
    "The modulus of elasticity for trabecular bone is derived using the Rice et al relationship [2]: \n",
    "\n",
    "\\begin{equation}\n",
    "E=0.82ρ+0.07 \\qquad\t(\\text{Equation 1})\n",
    "\\end{equation}\n",
    "\n",
    "and the modulus for cortical bone is derived using the Snyder et al relationship [3]:\n",
    "\n",
    "\\begin{equation}\n",
    "E=21.91 ρ-23.5 \\qquad\t(\\text{Equation 2})\n",
    "\\end{equation}\n",
    " \n",
    "To prevent calculating E for non-zero values of density including background, the rigidity only is quantified for bone pixels (HU>0). \n",
    "\n",
    "Now let's dive into the main iteration over each pixel. This can be accomplished by two nested loops: "
   ]
  },
  {
   "cell_type": "code",
   "execution_count": 8,
   "metadata": {},
   "outputs": [],
   "source": [
    "for iy in range(0, h):\n",
    "    for ix in range(0, w):\n",
    "        HU[iy, ix] = image[iy, ix] * scan.RescaleSlope + 1024 # originally should be scan.RescaleIntercept \n",
    "        if HU[iy, ix] < threshHU: # to remove the background noise\n",
    "            HU[iy, ix] = 0\n",
    "\n",
    "        rho[iy, ix] = HU[iy, ix] * slopeRho + interceptRho # calculating the density of each pixel\n",
    "        if rho[iy, ix] < threshRho: # to prevent a negative density \n",
    "            rho[iy, ix] = threshRho\n",
    "\n",
    "        if HU[iy, ix] != 0: # otherwise E remains zero\n",
    "            if rho[iy, ix] <= trabecularValue: # if the pixel belongs to a trabecular bone\n",
    "                E[iy, ix] = rho[iy, ix] * 0.82 + 0.07\n",
    "            else:\n",
    "                E[iy, ix] = rho[iy, ix] * 21.91 - 23.5\n",
    "            X += ix * dx * E[iy, ix] * da # will be used in eq. 3 \n",
    "            Y += iy * dy * E[iy, ix] * da # will be used in eq. 4\n",
    "            EA += E[iy, ix] * da # EA in eq. 5"
   ]
  },
  {
   "cell_type": "markdown",
   "metadata": {},
   "source": [
    "The modulus neutral axis and centroid are calculated based on the coordinates of each pixel and its corresponding area (da), modulus (E), and total number of pixels in the cross section:\n",
    "\\begin{equation}\n",
    "\\bar{X}=\\frac{\\sum_{i=1}^n x_i E_i A_i}{\\sum_{i=1}^n E_i A_i}\\qquad (\\text{Equation 3})\n",
    "\\end{equation}\n",
    "\\begin{equation}\n",
    "\\bar{Y}=\\frac{\\sum_{i=1}^n Y_i E_i A_i}{\\sum_{i=1}^n E_i A_i}\\qquad(\\text{Equation 4})\n",
    "\\end{equation}\n",
    "\n",
    "where x and y represent the distance of each pixel from the x and y axes, respectively."
   ]
  },
  {
   "cell_type": "code",
   "execution_count": 9,
   "metadata": {},
   "outputs": [
    {
     "name": "stdout",
     "output_type": "stream",
     "text": [
      "82.00433023398914\n",
      "28.41906580605176\n"
     ]
    }
   ],
   "source": [
    "centerX = X / EA\n",
    "centerY = Y / EA\n",
    "print(centerX)\n",
    "print(centerY)"
   ]
  },
  {
   "cell_type": "markdown",
   "metadata": {},
   "source": [
    "Now, it is the time to calculate the rigidity values. Firstly, we define the corresponding variables.  "
   ]
  },
  {
   "cell_type": "code",
   "execution_count": 10,
   "metadata": {},
   "outputs": [],
   "source": [
    "EIX = 0\n",
    "EIY = 0"
   ]
  },
  {
   "cell_type": "markdown",
   "metadata": {},
   "source": [
    "EA (already calculated in the previous loop) and EI and are calculated using:  \n",
    "\\begin{equation}\n",
    "EA=\\int E(ρ)da   \\qquad (\\text{Equation 5})  \n",
    "\\end{equation}\n",
    "\\begin{equation}\n",
    "EIX=\\int E(ρ)X^2da\\qquad (\\text{Equation 6}) \t  \n",
    "\\end{equation}\n",
    "\\begin{equation}\n",
    "EIY=\\int E(ρ)Y^2da\\qquad (\\text{Equation 7}) \t  \n",
    "\\end{equation}\n",
    "where x and y are the distances to the neutral axis of the trans-axial cross section, and da is the pixel area. \n",
    "The cross-section through the affected bone that had the lowest rigidity was considered the weakest link and was assumed to govern the failure behavior of the entire bone."
   ]
  },
  {
   "cell_type": "code",
   "execution_count": 11,
   "metadata": {},
   "outputs": [],
   "source": [
    "for iy in range(0, h):\n",
    "    for ix in range(0, w):\n",
    "        EIX += E[iy, ix] * pow((ix*dx)-centerX, 2) * da # eq. 6\n",
    "        EIY += E[iy, ix] * pow((iy*dy)-centerY, 2) * da # eq. 7"
   ]
  },
  {
   "cell_type": "markdown",
   "metadata": {},
   "source": [
    "Let's print the calculated rigidity values: "
   ]
  },
  {
   "cell_type": "code",
   "execution_count": 12,
   "metadata": {},
   "outputs": [
    {
     "name": "stdout",
     "output_type": "stream",
     "text": [
      "EA = 5274.554082053869, EIX = 245464.69795197283, EIY = 240888.3977543518\n"
     ]
    }
   ],
   "source": [
    "print(f\"EA = {EA}, EIX = {EIX}, EIY = {EIY}\")"
   ]
  },
  {
   "cell_type": "markdown",
   "metadata": {},
   "source": [
    "The final step is visualizing the elastic modulus map. Similarly, you can plot the density and HU maps by replacing `E` by `rho` or `HU`."
   ]
  },
  {
   "cell_type": "code",
   "execution_count": 13,
   "metadata": {},
   "outputs": [
    {
     "data": {
      "image/png": "[encoded data removed]",
      "text/plain": [
       "<Figure size 432x288 with 2 Axes>"
      ]
     },
     "metadata": {
      "needs_background": "light"
     },
     "output_type": "display_data"
    }
   ],
   "source": [
    "plt.contourf(E)\n",
    "plt.colorbar()\n",
    "plt.show()"
   ]
  },
  {
   "cell_type": "markdown",
   "metadata": {},
   "source": [
    "## References\n",
    "[1] Nazarian A, Entezari V, Zurakowski D, Calderon N, Hipp JA, Villa-Camacho JC, Lin PP, Cheung FH, Aboulafia AJ, Turcotte R,       Anderson ME. Treatment planning and fracture prediction in patients with skeletal metastasis with CT-based rigidity             analysis. Clinical Cancer Research. 2015 Jun 1;21(11):2514-9.\n",
    "\n",
    "[2] Rice JC, Cowin SC, Bowman JA. On the dependence of the elasticity and strength of cancellous bone on apparent density.         Journal of biomechanics. 1988 Jan 1;21(2):155-68.\n",
    "\n",
    "[3] Snyder SM, Schneider E. Estimation of mechanical properties of cortical bone by computed tomography. Journal of Orthopaedic     Research. 1991 May;9(3):422-31.\n"
   ]
  }
 ],
 "metadata": {
  "kernelspec": {
   "display_name": "Python 3",
   "language": "python",
   "name": "python3"
  },
  "language_info": {
   "codemirror_mode": {
    "name": "ipython",
    "version": 3
   },
   "file_extension": ".py",
   "mimetype": "text/x-python",
   "name": "python",
   "nbconvert_exporter": "python",
   "pygments_lexer": "ipython3",
   "version": "3.8.2"
  }
 },
 "nbformat": 4,
 "nbformat_minor": 4
}
